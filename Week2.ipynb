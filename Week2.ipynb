{
  "cells": [
    {
      "cell_type": "markdown",
      "metadata": {
        "id": "view-in-github",
        "colab_type": "text"
      },
      "source": [
        "<a href=\"https://colab.research.google.com/github/manaswitac/Detecting-Depression-Through-Tweets/blob/main/Week2.ipynb\" target=\"_parent\"><img src=\"https://colab.research.google.com/assets/colab-badge.svg\" alt=\"Open In Colab\"/></a>"
      ]
    },
    {
      "cell_type": "code",
      "execution_count": null,
      "metadata": {
        "colab": {
          "base_uri": "https://localhost:8080/"
        },
        "id": "WLtKn4o3_DYm",
        "outputId": "e3dfd6c1-39fd-4f2c-b2d9-55af16ad8148"
      },
      "outputs": [
        {
          "output_type": "stream",
          "name": "stdout",
          "text": [
            "Mounted at /content/drive\n"
          ]
        }
      ],
      "source": [
        "#Mounting the drive\n",
        "from google.colab import drive\n",
        "drive.mount(\"/content/drive\",force_remount=True)"
      ]
    },
    {
      "cell_type": "code",
      "execution_count": null,
      "metadata": {
        "id": "Sy1-1ZC9_L12"
      },
      "outputs": [],
      "source": [
        "#Importing csv into a Dataframe\n",
        "import pandas as pd\n",
        "df = pd.read_csv('/content/drive/My Drive/Data/Sentiment Analysis Dataset 2.csv',on_bad_lines = 'skip')\n",
        "data = df[['Sentiment','SentimentText']]"
      ]
    },
    {
      "cell_type": "code",
      "execution_count": null,
      "metadata": {
        "colab": {
          "base_uri": "https://localhost:8080/"
        },
        "id": "WzFuypx5B1q3",
        "outputId": "f1727051-743b-45e3-dc61-9b95be83c5c9"
      },
      "outputs": [
        {
          "output_type": "stream",
          "name": "stdout",
          "text": [
            "   Sentiment                                      SentimentText  \\\n",
            "0          0                       is so sad for my APL frie...   \n",
            "1          0                     I missed the New Moon trail...   \n",
            "2          1                            omg its already 7:30 :O   \n",
            "3          0            .. Omgaga. Im sooo  im gunna CRy. I'...   \n",
            "4          0           i think mi bf is cheating on me!!!   ...   \n",
            "\n",
            "                                         CleanedText  \n",
            "0                                     sad apl friend  \n",
            "1                            missed new moon trailer  \n",
            "2                                    omg already 730  \n",
            "3  omgaga im sooo im gunna cry ive dentist since ...  \n",
            "4                            think mi bf cheating tt  \n"
          ]
        },
        {
          "output_type": "stream",
          "name": "stderr",
          "text": [
            "<ipython-input-22-e8cc84603fd1>:22: SettingWithCopyWarning: \n",
            "A value is trying to be set on a copy of a slice from a DataFrame.\n",
            "Try using .loc[row_indexer,col_indexer] = value instead\n",
            "\n",
            "See the caveats in the documentation: https://pandas.pydata.org/pandas-docs/stable/user_guide/indexing.html#returning-a-view-versus-a-copy\n",
            "  data['CleanedText'] = data.loc[:,'SentimentText'].apply(lambda x: cleaning(x))\n"
          ]
        }
      ],
      "source": [
        "import string\n",
        "import nltk\n",
        "nltk.download()\n",
        "nltk.download('stopwords') \n",
        "from nltk.stem import WordNetLemmatizer\n",
        "nltk.download('wordnet')\n",
        "nltk.download('omw-1.4')\n",
        "from textblob import Word\n",
        "\n",
        "stopwords = nltk.corpus.stopwords.words('english')\n",
        "\n",
        "def cleaning(text):\n",
        "  returntext = \"\"  \n",
        "  for i in text:\n",
        "    if i not in string.punctuation:\n",
        "      returntext = returntext + i\n",
        "  returntext = returntext.lower() \n",
        "  returntext = ' '.join(i for i in returntext.split() if i not in stopwords) \n",
        "  returntext = ' '.join([Word(i).lemmatize() for i in returntext.split()])   \n",
        "  return returntext\n",
        "\n",
        "data['CleanedText'] = data.loc[:,'SentimentText'].apply(lambda x: cleaning(x))\n",
        "print(data.head())"
      ]
    },
    {
      "cell_type": "code",
      "execution_count": null,
      "metadata": {
        "id": "egyLBdXiBGMR"
      },
      "outputs": [],
      "source": [
        "from keras.preprocessing.text import Tokenizer\n",
        "from keras_preprocessing.sequence import pad_sequences\n",
        "\n",
        "tokenizer = Tokenizer(num_words=2000, split=' ')\n",
        "tokenizer.fit_on_texts(data['CleanedText'].values)\n",
        "X = tokenizer.texts_to_sequences(data['CleanedText'].values)\n",
        "X = pad_sequences(X)"
      ]
    },
    {
      "cell_type": "code",
      "execution_count": null,
      "metadata": {
        "colab": {
          "base_uri": "https://localhost:8080/"
        },
        "id": "yPCbhef0JWGp",
        "outputId": "dea37f5d-43e5-4987-c306-806e67a3dc77"
      },
      "outputs": [
        {
          "output_type": "stream",
          "name": "stdout",
          "text": [
            "Model: \"sequential_1\"\n",
            "_________________________________________________________________\n",
            " Layer (type)                Output Shape              Param #   \n",
            "=================================================================\n",
            " embedding_1 (Embedding)     (None, 46, 50)            100000    \n",
            "                                                                 \n",
            " spatial_dropout1d_1 (Spatia  (None, 46, 50)           0         \n",
            " lDropout1D)                                                     \n",
            "                                                                 \n",
            " lstm_1 (LSTM)               (None, 80)                41920     \n",
            "                                                                 \n",
            " dense_1 (Dense)             (None, 2)                 162       \n",
            "                                                                 \n",
            "=================================================================\n",
            "Total params: 142,082\n",
            "Trainable params: 142,082\n",
            "Non-trainable params: 0\n",
            "_________________________________________________________________\n",
            "None\n"
          ]
        }
      ],
      "source": [
        "from keras.models import Sequential\n",
        "from keras.layers import Dense, Embedding, LSTM, SpatialDropout1D\n",
        "\n",
        "embed_dim = 50\n",
        "lstm_out = 80\n",
        "model = Sequential()\n",
        "model.add(Embedding(2000,50,input_length = X.shape[1]))\n",
        "model.add(SpatialDropout1D(0.4))\n",
        "model.add(LSTM(80, dropout=0.2, recurrent_dropout=0.2))\n",
        "model.add(Dense(2,activation='softmax'))\n",
        "model.compile(loss = 'categorical_crossentropy', optimizer='adam',metrics = ['accuracy'])\n",
        "print(model.summary())"
      ]
    },
    {
      "cell_type": "code",
      "execution_count": null,
      "metadata": {
        "colab": {
          "base_uri": "https://localhost:8080/"
        },
        "id": "YVq26YTFLZfi",
        "outputId": "10681184-58e6-451e-9934-488de34111fd"
      },
      "outputs": [
        {
          "output_type": "stream",
          "name": "stdout",
          "text": [
            "Epoch 1/5\n",
            "1875/1875 [==============================] - 158s 82ms/step - loss: 0.5471 - accuracy: 0.7175 - val_loss: 0.5185 - val_accuracy: 0.7393\n",
            "Epoch 2/5\n",
            "1875/1875 [==============================] - 139s 74ms/step - loss: 0.5080 - accuracy: 0.7472 - val_loss: 0.5116 - val_accuracy: 0.7454\n",
            "Epoch 3/5\n",
            "1875/1875 [==============================] - 144s 77ms/step - loss: 0.4980 - accuracy: 0.7535 - val_loss: 0.5100 - val_accuracy: 0.7440\n",
            "Epoch 4/5\n",
            "1875/1875 [==============================] - 139s 74ms/step - loss: 0.4892 - accuracy: 0.7593 - val_loss: 0.5104 - val_accuracy: 0.7444\n",
            "Epoch 5/5\n",
            "1875/1875 [==============================] - 144s 77ms/step - loss: 0.4825 - accuracy: 0.7631 - val_loss: 0.5194 - val_accuracy: 0.7451\n",
            "625/625 - 6s - loss: 0.5212 - accuracy: 0.7462 - 6s/epoch - 10ms/step\n",
            "score: 0.52\n",
            "acc: 0.75\n"
          ]
        }
      ],
      "source": [
        "from sklearn.model_selection import train_test_split\n",
        "from keras.callbacks import EarlyStopping\n",
        "\n",
        "Y = pd.get_dummies(data['Sentiment']).values\n",
        "#X_train, X_test, Y_train, Y_test = train_test_split(X,Y, test_size = 0.2, random_state = 42)\n",
        "X_test = X[round(len(X)*0.8):]\n",
        "Y_test = Y[round(len(X)*0.8):]\n",
        "X_val = X[round(len(X)*0.6):round(len(X)*0.8)]\n",
        "Y_val = Y[round(len(Y)*0.6):round(len(X)*0.8)]\n",
        "X_train = X[:round(len(X)*0.6)]\n",
        "Y_train = Y[:round(len(Y)*0.6)]\n",
        "early_stop = EarlyStopping(monitor='val_loss', patience=3)\n",
        "hist = model.fit(X_train, Y_train,validation_data=(X_val,Y_val), epochs=5, batch_size=32, shuffle=True, callbacks=[early_stop])\n",
        "score,acc = model.evaluate(X_test, Y_test, verbose = 2, batch_size = 32)\n",
        "print(\"score: %.2f\" % (score))\n",
        "print(\"acc: %.2f\" % (acc))"
      ]
    },
    {
      "cell_type": "code",
      "source": [
        "import pickle\n",
        "with open('text_classifier', 'wb') as picklefile:\n",
        "    pickle.dump(model,picklefile)"
      ],
      "metadata": {
        "id": "wahKF8D4NT3I"
      },
      "execution_count": null,
      "outputs": []
    },
    {
      "cell_type": "code",
      "source": [
        "import matplotlib.pyplot as plt\n",
        "plt.plot(hist.history['accuracy'])\n",
        "plt.plot(hist.history['val_accuracy'])\n",
        "plt.title('model accuracy')\n",
        "plt.ylabel('accuracy')\n",
        "plt.xlabel('epoch')\n",
        "plt.legend(['train', 'validation'], loc='upper left')\n",
        "plt.show()"
      ],
      "metadata": {
        "id": "qLz5auxrPvQg",
        "colab": {
          "base_uri": "https://localhost:8080/",
          "height": 295
        },
        "outputId": "80420226-3c26-4407-b8d2-83002a396ccf"
      },
      "execution_count": null,
      "outputs": [
        {
          "output_type": "display_data",
          "data": {
            "text/plain": [
              "<Figure size 432x288 with 1 Axes>"
            ],
            "image/png": "[encoded data removed]"
          },
          "metadata": {
            "needs_background": "light"
          }
        }
      ]
    },
    {
      "cell_type": "code",
      "source": [
        "plt.plot(hist.history['loss'])\n",
        "plt.plot(hist.history['val_loss'])\n",
        "plt.title('model loss')\n",
        "plt.ylabel('loss')\n",
        "plt.xlabel('epoch')\n",
        "plt.legend(['train', 'test'], loc='upper left')\n",
        "plt.show()"
      ],
      "metadata": {
        "id": "VQPrnLEEP2LN",
        "colab": {
          "base_uri": "https://localhost:8080/",
          "height": 295
        },
        "outputId": "01578c41-1a8b-48a1-9d13-1606e2b6f1e3"
      },
      "execution_count": null,
      "outputs": [
        {
          "output_type": "display_data",
          "data": {
            "text/plain": [
              "<Figure size 432x288 with 1 Axes>"
            ],
            "image/png": "[encoded data removed]"
          },
          "metadata": {
            "needs_background": "light"
          }
        }
      ]
    },
    {
      "cell_type": "code",
      "execution_count": null,
      "metadata": {
        "id": "hISHofWD_R5L"
      },
      "outputs": [],
      "source": [
        "import gensim\n",
        "Words = [word.split() for word in data['CleanedText']]\n",
        "W2V_model = gensim.models.word2vec.Word2Vec(size=300,window=7,min_count=1,workers=8,sg = 1)\n",
        "W2V_model.build_vocab(Words)"
      ]
    },
    {
      "cell_type": "code",
      "execution_count": null,
      "metadata": {
        "colab": {
          "base_uri": "https://localhost:8080/"
        },
        "id": "Dy4FFsksXj84",
        "outputId": "78d6ab13-83b8-4e85-d2a4-90a526cbfebf"
      },
      "outputs": [
        {
          "output_type": "execute_result",
          "data": {
            "text/plain": [
              "(23965876, 25352480)"
            ]
          },
          "metadata": {},
          "execution_count": 30
        }
      ],
      "source": [
        "W2V_model.train(Words, total_examples=len(Words), epochs=32)"
      ]
    },
    {
      "cell_type": "code",
      "execution_count": null,
      "metadata": {
        "id": "UpmL2QvNeFvE"
      },
      "outputs": [],
      "source": [
        "import numpy as np\n",
        "class LogReg:\n",
        "\n",
        "    def __init__(self, l_rate, epochs, n_features):\n",
        "        self.l_rate = l_rate\n",
        "        self.epochs = epochs\n",
        "        self.coef = [0.0] * n_features\n",
        "        self.bias = 0.0\n",
        "\n",
        "    def sigmoid(self, score, threshold=20.0):\n",
        "        if abs(score.any()) > threshold:\n",
        "            score = threshold * np.sign(score)\n",
        "        activation = np.exp(score)\n",
        "        return activation / (1.0 + activation)\n",
        "\n",
        "    def predict(self, features):\n",
        "        value = sum([features[i]*self.coef[i] for i in range(len(features))]) + self.bias\n",
        "        return self.sigmoid(value)\n",
        "\n",
        "    def sg_update(self, features, label):\n",
        "        yhat = self.predict(features)\n",
        "        e = label - yhat\n",
        "        self.bias = self.bias + self.l_rate * e * yhat * (1-yhat)\n",
        "        for i in range(len(features)):\n",
        "            self.coef[i] = self.coef[i] + self.l_rate * e * yhat * (1-yhat) * features[i]\n",
        "        return\n",
        "\n",
        "    def train(self, X, y):\n",
        "        for epoch in range(self.epochs):\n",
        "            for features, label in zip(X, y):\n",
        "                self.sg_update(features, label)\n",
        "        return self.bias, self.coef"
      ]
    },
    {
      "cell_type": "code",
      "execution_count": null,
      "metadata": {
        "id": "u4nkrHSUevgu"
      },
      "outputs": [],
      "source": [
        "def get_accuracy(y_bar, y_pred):\n",
        "    correct = 0\n",
        "    for i in range(len(y_bar)):\n",
        "        if np.array_equal(y_bar[i],y_pred[i]):\n",
        "            correct += 1\n",
        "    accuracy = (correct / len(y_bar)) * 100.0\n",
        "    return accuracy"
      ]
    },
    {
      "cell_type": "code",
      "execution_count": null,
      "metadata": {
        "id": "pkuqsX57e2h9",
        "colab": {
          "base_uri": "https://localhost:8080/"
        },
        "outputId": "1bc080fb-acce-4826-b323-88947249fb57"
      },
      "outputs": [
        {
          "output_type": "stream",
          "name": "stderr",
          "text": [
            "<ipython-input-31-37b14bab1aba>:13: RuntimeWarning: overflow encountered in exp\n",
            "  activation = np.exp(score)\n",
            "<ipython-input-31-37b14bab1aba>:14: RuntimeWarning: invalid value encountered in true_divide\n",
            "  return activation / (1.0 + activation)\n"
          ]
        }
      ],
      "source": [
        "logreg = LogReg(0.1,5, len(X_train[0]))\n",
        "bias_logreg, weights_logreg = logreg.train(X_train, Y_train)\n",
        "y_logistic = [np.round(logreg.predict(example)) for example in X_test]"
      ]
    },
    {
      "cell_type": "code",
      "execution_count": null,
      "metadata": {
        "id": "brNP_EdDe3Mx",
        "colab": {
          "base_uri": "https://localhost:8080/"
        },
        "outputId": "1f050e2c-0195-42f2-f0ed-dea069836b52"
      },
      "outputs": [
        {
          "output_type": "stream",
          "name": "stdout",
          "text": [
            "Logistic Regression Accuracy: 0.000\n"
          ]
        }
      ],
      "source": [
        "# Compare accuracies\n",
        "accuracy_logistic = get_accuracy(y_logistic, Y_test)\n",
        "print('Logistic Regression Accuracy: {:0.3f}'.format(accuracy_logistic))"
      ]
    }
  ],
  "metadata": {
    "colab": {
      "provenance": [],
      "authorship_tag": "ABX9TyO3TcKUH5I+a+4gmF+oV65V",
      "include_colab_link": true
    },
    "kernelspec": {
      "display_name": "Python 3",
      "name": "python3"
    },
    "language_info": {
      "name": "python"
    }
  },
  "nbformat": 4,
  "nbformat_minor": 0
}